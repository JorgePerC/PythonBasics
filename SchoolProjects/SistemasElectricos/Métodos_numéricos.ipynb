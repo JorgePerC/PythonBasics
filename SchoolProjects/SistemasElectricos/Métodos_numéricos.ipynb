{
  "nbformat": 4,
  "nbformat_minor": 0,
  "metadata": {
    "colab": {
      "name": "Métodos numéricos.ipynb",
      "provenance": [],
      "collapsed_sections": []
    },
    "kernelspec": {
      "name": "python3",
      "display_name": "Python 3"
    }
  },
  "cells": [
    {
      "cell_type": "markdown",
      "metadata": {
        "id": "XRJVfpZ8zL3H",
        "colab_type": "text"
      },
      "source": [
        "# Métodos Numéricos\n",
        "## Integrantes:\n",
        "1. Lourdes Badillo, A01024232\n",
        "2. Martha del Río, A01023890\n",
        "3. Jorge Pérez, A01023859\n",
        "4. Valeria Pineda, A01023979\n",
        "5. Eduardo Villalpando, A01023646\n"
      ]
    },
    {
      "cell_type": "code",
      "metadata": {
        "id": "0HMEqveHzIBe",
        "colab_type": "code",
        "colab": {}
      },
      "source": [
        "import numpy as np\n",
        "import matplotlib.pyplot as plt\n",
        "from scipy.optimize import bisect, newton\n",
        "\n",
        "plt.style.use('ggplot')"
      ],
      "execution_count": null,
      "outputs": []
    },
    {
      "cell_type": "markdown",
      "metadata": {
        "id": "ohga5qFPrMAP",
        "colab_type": "text"
      },
      "source": [
        "Método de bisección"
      ]
    },
    {
      "cell_type": "code",
      "metadata": {
        "id": "PQEH_juEzWLX",
        "colab_type": "code",
        "colab": {}
      },
      "source": [
        "def bi_method(f, _a, _b):\n",
        "\n",
        "    a = _a\n",
        "    b = _b\n",
        "    c = (a+b)/2\n",
        "    for i in range(2):\n",
        "        while((b-a) > 1e-12 ):\n",
        "            c = (a+b)/2\n",
        "            # Si los símbolos de f(a) y f(c) son opuestos, nos quedamos con el intervalo a a c (b=c)\n",
        "            if( f(a)*f(b) < 0 ):\n",
        "                a = c\n",
        "            # Si los símbolos no son opuestos nos quedamos con el intervalo de c a b (a = c)\n",
        "            elif( f(a)*f(b) > 0 ):\n",
        "                b = c\n",
        "    return c"
      ],
      "execution_count": null,
      "outputs": []
    },
    {
      "cell_type": "markdown",
      "metadata": {
        "id": "_lsYOB8arPa3",
        "colab_type": "text"
      },
      "source": [
        "Método de Newton-Raphson"
      ]
    },
    {
      "cell_type": "code",
      "metadata": {
        "id": "vJxxt9ZfrGmN",
        "colab_type": "code",
        "colab": {}
      },
      "source": [
        "def differential(f,x):\n",
        "    delta = 1e-12\n",
        "    return (f(x+delta)-f(x))/delta\n",
        "\n",
        "def newt(f,x):\n",
        "    for i in range(100):\n",
        "        xn = x-(f(x)/differential(f,x))\n",
        "        if (abs(xn-x) < 1e-12) or f(xn) == 0:\n",
        "            break\n",
        "        else:\n",
        "            x = xn\n",
        "    return xn"
      ],
      "execution_count": null,
      "outputs": []
    },
    {
      "cell_type": "markdown",
      "metadata": {
        "id": "wg3_38Y2q8XP",
        "colab_type": "text"
      },
      "source": [
        "Resolver los siguientes ejericicos con el método de bisección y Newton-Raphson."
      ]
    },
    {
      "cell_type": "markdown",
      "metadata": {
        "id": "lFb_AwrEr67b",
        "colab_type": "text"
      },
      "source": [
        "1. $f(x)=x-cos(x)$ en el intervalo de $-5 \\geq x \\geq 5$"
      ]
    },
    {
      "cell_type": "code",
      "metadata": {
        "id": "wworgRoTr5uO",
        "colab_type": "code",
        "colab": {
          "base_uri": "https://localhost:8080/",
          "height": 282
        },
        "outputId": "354be829-a278-49b6-fa1b-3dd7647540ec"
      },
      "source": [
        "def f_1(x):\n",
        "    return -x*np.cos(x)\n",
        "\n",
        "x_1 = np.linspace(-5,5,50)   \n",
        "plt.plot(x_1,f_1(x_1))"
      ],
      "execution_count": null,
      "outputs": [
        {
          "output_type": "execute_result",
          "data": {
            "text/plain": [
              "[<matplotlib.lines.Line2D at 0x7fc9a1ab6a90>]"
            ]
          },
          "metadata": {
            "tags": []
          },
          "execution_count": 4
        },
        {
          "output_type": "display_data",
          "data": {
            "image/png": "[encoded data removed]",
            "text/plain": [
              "<Figure size 432x288 with 1 Axes>"
            ]
          },
          "metadata": {
            "tags": [],
            "needs_background": "light"
          }
        }
      ]
    },
    {
      "cell_type": "code",
      "metadata": {
        "id": "OH9H2gbz330N",
        "colab_type": "code",
        "colab": {
          "base_uri": "https://localhost:8080/",
          "height": 510
        },
        "outputId": "34b97219-5f6e-4242-ce74-e04759b9b60d"
      },
      "source": [
        "print(\"Raíz 1\")\n",
        "print(\"bi_method:\",bi_method(f_1,-6, -4))\n",
        "print(\"Comprobación:\",bisect(f_1,-6,-4))\n",
        "print(\"newt:\", newt(f_1,-6))\n",
        "print(\"Comprobación:\", newton(f_1,-4), \"\\n\")\n",
        "\n",
        "print(\"Raíz 2\")\n",
        "print(\"bi_method:\",bi_method(f_1,-2,-1.4))\n",
        "print(\"Comprobación:\",bisect(f_1,-2,-1))\n",
        "print(\"newt:\", newt(f_1,-1))\n",
        "print(\"Comprobación:\", newton(f_1,-1), \"\\n\")\n",
        "\n",
        "print(\"Raíz 3\")\n",
        "print(\"bi_method:\",bi_method(f_1,-0.5,0.2))\n",
        "print(\"Comprobación:\",bisect(f_1,-0.5,0.2))\n",
        "print(\"newt:\", newt(f_1,0.2))\n",
        "print(\"Comprobación:\", newton(f_1,0.2), \"\\n\")\n",
        "\n",
        "print(\"Raíz 4\")\n",
        "print(\"bi_method:\",bi_method(f_1,1,2))\n",
        "print(\"Comprobación:\",bisect(f_1,1,2))\n",
        "print(\"newt:\", newt(f_1,1))\n",
        "print(\"Comprobación:\", newton(f_1,1), \"\\n\")\n",
        "\n",
        "print(\"Raíz 5\")\n",
        "print(\"bi_method:\",bi_method(f_1,4,6))\n",
        "print(\"Comprobación:\",bisect(f_1,4,6))\n",
        "print(\"newt:\", newt(f_1,4))\n",
        "print(\"Comprobación:\", newton(f_1,4))"
      ],
      "execution_count": null,
      "outputs": [
        {
          "output_type": "stream",
          "text": [
            "Raíz 1\n",
            "bi_method: -4.4999999999990905\n",
            "Comprobación: -4.712388980386095\n",
            "newt: -4.71238898038469\n",
            "Comprobación: -4.712388980384691 \n",
            "\n",
            "Raíz 2\n",
            "bi_method: -1.549999999999454\n",
            "Comprobación: -1.5707963267941523\n",
            "newt: -1.5707963267948966\n",
            "Comprobación: -1.5707963267948966 \n",
            "\n",
            "Raíz 3\n",
            "bi_method: 0.025000000000636655\n",
            "Comprobación: -9.095264224307746e-13\n",
            "newt: 0.0\n",
            "Comprobación: 7.855646053926849e-17 \n",
            "\n",
            "Raíz 4\n",
            "bi_method: 1.7500000000009095\n",
            "Comprobación: 1.5707963267941523\n",
            "newt: 1.5707963267948966\n",
            "Comprobación: 1.5707963267948966 \n",
            "\n",
            "Raíz 5\n",
            "bi_method: 5.0000000000009095\n",
            "Comprobación: 4.712388980386095\n",
            "newt: 4.71238898038469\n",
            "Comprobación: 4.712388980384691\n"
          ],
          "name": "stdout"
        }
      ]
    },
    {
      "cell_type": "markdown",
      "metadata": {
        "id": "0op-0HfNPtdF",
        "colab_type": "text"
      },
      "source": [
        "**Procedimiento a mano**\n",
        "\n",
        "![](https://)"
      ]
    },
    {
      "cell_type": "markdown",
      "metadata": {
        "id": "ELFwp6oRsUkD",
        "colab_type": "text"
      },
      "source": [
        "2. $f(x)=x \\log_{10}x-1.2$ en el intervalo de: $1 \\leq x \\leq 5$"
      ]
    },
    {
      "cell_type": "code",
      "metadata": {
        "id": "2oDiEytkv8Hu",
        "colab_type": "code",
        "colab": {
          "base_uri": "https://localhost:8080/",
          "height": 282
        },
        "outputId": "badd0d26-414e-4547-f81b-4af5791cfe36"
      },
      "source": [
        "def f_2(x):\n",
        "    return x*np.log10(x) - 1.2\n",
        "\n",
        "x_2 = np.linspace(1,5,50)\n",
        "\n",
        "plt.plot(x_2, f_2(x_2))"
      ],
      "execution_count": null,
      "outputs": [
        {
          "output_type": "execute_result",
          "data": {
            "text/plain": [
              "[<matplotlib.lines.Line2D at 0x7fe8344e19e8>]"
            ]
          },
          "metadata": {
            "tags": []
          },
          "execution_count": 17
        },
        {
          "output_type": "display_data",
          "data": {
            "image/png": "[encoded data removed]",
            "text/plain": [
              "<Figure size 432x288 with 1 Axes>"
            ]
          },
          "metadata": {
            "tags": [],
            "needs_background": "light"
          }
        }
      ]
    },
    {
      "cell_type": "code",
      "metadata": {
        "id": "_mCeEsbzzdRb",
        "colab_type": "code",
        "colab": {
          "base_uri": "https://localhost:8080/",
          "height": 102
        },
        "outputId": "83bed853-95e4-482e-a474-bd373bd28c53"
      },
      "source": [
        "print(\"Raíz 1\")\n",
        "print(\"bi_method:\",bi_method(f_2,1,5))\n",
        "print(\"Comprobación:\",bisect(f_2,1,5))\n",
        "print(\"newt:\", newt(f_2,1))\n",
        "print(\"Comprobación:\", newton(f_2,1))"
      ],
      "execution_count": null,
      "outputs": [
        {
          "output_type": "stream",
          "text": [
            "Raíz 1\n",
            "bi_method: 3.0000000000009095\n",
            "Comprobación: 2.740646095973716\n",
            "newt: 2.7406460959736934\n",
            "Comprobación: 2.740646095973693\n"
          ],
          "name": "stdout"
        }
      ]
    },
    {
      "cell_type": "markdown",
      "metadata": {
        "id": "rWplfk1fscGm",
        "colab_type": "text"
      },
      "source": [
        "3. $f(x) = e^{0.3} - x^2 +4$ en el intervalo de: $-5 \\leq x \\leq 21$\n"
      ]
    },
    {
      "cell_type": "code",
      "metadata": {
        "id": "Q3NC3io-t25A",
        "colab_type": "code",
        "colab": {
          "base_uri": "https://localhost:8080/",
          "height": 282
        },
        "outputId": "b692ac0b-93ea-4282-f086-e2742eb7d417"
      },
      "source": [
        "def f_3(x):\n",
        "  return np.exp(0.3)-x**2+4\n",
        "\n",
        "x_3 = np.linspace(-5, 21, 50)\n",
        "\n",
        "plt.plot(x_3, f_3(x_3))"
      ],
      "execution_count": null,
      "outputs": [
        {
          "output_type": "execute_result",
          "data": {
            "text/plain": [
              "[<matplotlib.lines.Line2D at 0x7fe83457d940>]"
            ]
          },
          "metadata": {
            "tags": []
          },
          "execution_count": 16
        },
        {
          "output_type": "display_data",
          "data": {
            "image/png": "[encoded data removed]",
            "text/plain": [
              "<Figure size 432x288 with 1 Axes>"
            ]
          },
          "metadata": {
            "tags": [],
            "needs_background": "light"
          }
        }
      ]
    },
    {
      "cell_type": "code",
      "metadata": {
        "id": "7DfUxkKm0wLq",
        "colab_type": "code",
        "colab": {
          "base_uri": "https://localhost:8080/",
          "height": 204
        },
        "outputId": "cf3117b2-fab9-4c79-a5ab-fdff29f69743"
      },
      "source": [
        "print(\"Raíz 1\")\n",
        "print(\"bi_method:\",bi_method(f_3,-5,0))\n",
        "print(\"Comprobación:\",bisect(f_3,-5,0))\n",
        "print(\"newt:\", newt(f_3,-6))\n",
        "print(\"Comprobación:\", newton(f_3,-6))\n",
        "\n",
        "print()\n",
        "\n",
        "print(\"Raíz 2\")\n",
        "print(\"bi_method:\",bi_method(f_3, 0, 5))\n",
        "print(\"Comprobación:\",bisect(f_3,-0, 5))\n",
        "print(\"newt:\", newt(f_3, 6))\n",
        "print(\"Comprobación:\", newton(f_3, 6))"
      ],
      "execution_count": null,
      "outputs": [
        {
          "output_type": "stream",
          "text": [
            "Raíz 1\n",
            "bi_method: -1.2499999999994316\n",
            "Comprobación: -2.3129761796383264\n",
            "newt: -2.312976179638693\n",
            "Comprobación: -2.312976179638693\n",
            "\n",
            "Raíz 2\n",
            "bi_method: 2.5000000000005684\n",
            "Comprobación: 2.3129761796383264\n",
            "newt: 2.312976179638693\n",
            "Comprobación: 2.312976179638693\n"
          ],
          "name": "stdout"
        }
      ]
    },
    {
      "cell_type": "markdown",
      "metadata": {
        "id": "l02emkjLnKDk",
        "colab_type": "text"
      },
      "source": [
        "4. $f(x)=2cosx - \\frac{\\sqrt{x}}{2} -1$ en el intervalo de $0 \\leq x \\leq 10$"
      ]
    },
    {
      "cell_type": "code",
      "metadata": {
        "id": "Vxp0gRk60AF3",
        "colab_type": "code",
        "colab": {
          "base_uri": "https://localhost:8080/",
          "height": 282
        },
        "outputId": "b4b17095-9754-4a5b-b42e-7a99737b32db"
      },
      "source": [
        "def f_4(x):\n",
        "    return 2*np.cos(x) - np.sqrt(x)/2 - 1\n",
        "\n",
        "x_4 = np.linspace(0,10,50)\n",
        "\n",
        "plt.plot(x_4, f_4(x_4))"
      ],
      "execution_count": null,
      "outputs": [
        {
          "output_type": "execute_result",
          "data": {
            "text/plain": [
              "[<matplotlib.lines.Line2D at 0x7fe83439d978>]"
            ]
          },
          "metadata": {
            "tags": []
          },
          "execution_count": 22
        },
        {
          "output_type": "display_data",
          "data": {
            "image/png": "[encoded data removed]",
            "text/plain": [
              "<Figure size 432x288 with 1 Axes>"
            ]
          },
          "metadata": {
            "tags": [],
            "needs_background": "light"
          }
        }
      ]
    },
    {
      "cell_type": "code",
      "metadata": {
        "id": "6BcSe0lY05_P",
        "colab_type": "code",
        "colab": {
          "base_uri": "https://localhost:8080/",
          "height": 102
        },
        "outputId": "63c069cd-8ec2-4f0c-f2c7-e2bdf007ea48"
      },
      "source": [
        "print(\"Raíz 1\")\n",
        "print(\"bi_method:\",bi_method(f_4, 0, 2))\n",
        "print(\"Comprobación:\",bisect(f_4, 0, 2))\n",
        "print(\"newt:\", newt(f_4, 0))\n",
        "print(\"Comprobación:\", newton(f_4, 0))"
      ],
      "execution_count": null,
      "outputs": [
        {
          "output_type": "stream",
          "text": [
            "Raíz 1\n",
            "bi_method: 1.0000000000009095\n",
            "Comprobación: 0.768253734049722\n",
            "newt: 0.7682537340482158\n",
            "Comprobación: 0.7682537340481401\n"
          ],
          "name": "stdout"
        }
      ]
    }
  ]
}