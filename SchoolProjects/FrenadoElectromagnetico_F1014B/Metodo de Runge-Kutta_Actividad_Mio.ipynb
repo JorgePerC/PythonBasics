{
 "cells": [
  {
   "cell_type": "markdown",
   "metadata": {},
   "source": [
    "# Método de Runge-Kutta de 4to orden\n",
    "\n",
    "Clase: F1014B Modelación Computacional de Sistemas Electromagnéticos\n",
    "\n",
    "Autor: Edoardo Bucheli\n",
    "\n",
    "Profesor de Cátedra, Tec de Monterrey Campus Santa Fe"
   ]
  },
  {
   "cell_type": "markdown",
   "metadata": {},
   "source": [
    "## Introducción\n",
    "En esta sesión aprenderemos un método numérico para la solución de problemas de valor inicial con la siguiente forma,\n",
    "\n",
    "$$\\frac{dy}{dx} = f(x,y)\\qquad y(x_0) = y_0$$\n",
    "\n",
    "El método que estudiaremos se conoce como el método de Runge-Kutta desarrollado por los matemáticos alemanes Carl Runge y Wilhem Kutta.\n",
    "\n",
    "Este método es a su vez una versión más precisa del **Método de Euler** el cual estudiaremos rápidamente antes de pasar a Runge-Kutta."
   ]
  },
  {
   "cell_type": "markdown",
   "metadata": {},
   "source": [
    "## Método de Euler\n",
    "\n",
    "El método de Euler se basa en un principio muy sencillo. Dado un campo de pendientes, creamos una trayectoria que se mueve conforme a la pendiente en un punto $(x,y)$ dado un movimiento horizontal $\\Delta x = h$. Este procedimiento se visualiza en la siguiente imágen.\n",
    "\n",
    "<img src=\"imgs/euler_method.png\">\n",
    "\n",
    "\n",
    "En la imágen se aprecia de manera muy clara el error que ocurre al llevar a cabo la aproximación. Para mejorar la aproximación, podemos reducir el tamaño de $h$ como se muestra en la siguiente figura,\n",
    "\n",
    "<img src=\"imgs/euler_2.png\">\n",
    "\n",
    "En la imagen anterior se muestran aproximaciones con $h = 1$, $h = 0.2$ y $h = 0.05$.\n",
    "\n",
    "Aunque un valor para $h$ puede ser lo suficientemente chico para obtener un resultado, si el valor final de $x$ que estamos buscando es muy grande entonces nuestro algoritmo puede ser muy costoso computacionalmente. Es por ello que resulta necesario encontrar un método más eficiente."
   ]
  },
  {
   "cell_type": "markdown",
   "metadata": {},
   "source": [
    "## Ejercicio: Implementa el método de Euler\n",
    "\n",
    "Ahora si empezaremos a programar, en esta sección necesitas implementar el Método de Euler.\n",
    "\n",
    "Para hacer eso definamos el método formalmente:\n",
    "\n",
    "\n",
    "### Definición: Método de Euler\n",
    "\n",
    "Para el problema de valor inicial,\n",
    "\n",
    "$$\\frac{dy}{dx} = f(x,y)\\qquad y(x_0)=y_0$$\n",
    "\n",
    "El método de Euler con salto de tamaño $h$ consiste en aplicar la fórmula iterativa,\n",
    "\n",
    "$$y_{n+1} = y_n + h\\cdot f(x_n,y_n)$$\n",
    "$$x_{n+1} = x_n + h$$\n",
    "\n",
    "para calcular las aproximaciones $y_1,y_2,y_3,\\dots$ de los valores reales $y(x_1),y(x_2),y(x_3),\\dots$ que emanan de la solución exacta $y(x)$"
   ]
  },
  {
   "cell_type": "markdown",
   "metadata": {},
   "source": [
    "### Solución Guiada\n",
    "\n",
    "Empecemos por importar las librerías necesarias."
   ]
  },
  {
   "cell_type": "code",
   "execution_count": 9,
   "metadata": {},
   "outputs": [],
   "source": [
    "import numpy as np\n",
    "import matplotlib.pyplot as plt"
   ]
  },
  {
   "cell_type": "markdown",
   "metadata": {},
   "source": [
    "Para la solución del problema, intentemos hacer una implementación similar a lo que haría un/a programador/a con más experiencia.\n",
    "\n",
    "Por lo tanto separaremos la solución en dos funciones. Una se encargará de calcular un paso del método de euler y la segunda utilizará esta función para repetir el proceso tantas veces sea necesario.\n",
    "\n",
    "Empecemos entonces por implementar la función `euler_step()` que se encargará de llevar a cabo un paso del método de Euler."
   ]
  },
  {
   "cell_type": "code",
   "execution_count": 10,
   "metadata": {},
   "outputs": [],
   "source": [
    "def euler_step(x_n,y_n,f ,h):\n",
    "    \"\"\"\n",
    "    Calcula un paso del método de euler\n",
    "    Entradas:\n",
    "    x_n: int,float\n",
    "        El valor inicial de x en este paso\n",
    "    y_n: int, float\n",
    "        El valor inicial de y en este paso\n",
    "    f: función\n",
    "        Una función que represente f(x,y) en el problema de valor inicial.\n",
    "    h: int, float\n",
    "        El tamaño del salto de un paso al siguiente\n",
    "        \n",
    "    Salida:\n",
    "    x_n_plus_1: float\n",
    "        El valor de x actualizado de acuerdo al método de euler\n",
    "    y_n_plus_1: float\n",
    "        El valor de y actualizado de acuerdo al método de euler\n",
    "    \"\"\"\n",
    "    \n",
    "    # Empieza tu código aquí (alrededor de 2 líneas)\n",
    "    x_n_plus_1 = x_n + h\n",
    "    y_n_plus_1 = f(x_n + y_n, y_n)\n",
    "    \n",
    "    return x_n_plus_1, y_n_plus_1\n",
    "    "
   ]
  },
  {
   "cell_type": "markdown",
   "metadata": {},
   "source": [
    "Probemos tu función con el siguiente problema,\n",
    "\n",
    "$$\\frac{dy}{dx} = x + \\frac{1}{5}y \\qquad y(0) = -3 $$\n",
    "\n",
    "Utilizando $h = 1$"
   ]
  },
  {
   "cell_type": "code",
   "execution_count": 11,
   "metadata": {},
   "outputs": [
    {
     "output_type": "stream",
     "name": "stdout",
     "text": "(1, -3.6)\n"
    }
   ],
   "source": [
    "x_0 = 0\n",
    "y_0 = -3\n",
    "\n",
    "def f(x,y):\n",
    "    return x + (1/5)*y\n",
    "\n",
    "h = 1\n",
    "\n",
    "print(euler_step(x_0,y_0,f,h))"
   ]
  },
  {
   "cell_type": "markdown",
   "metadata": {},
   "source": [
    "Tu resultado debería ser `(1,-3.6)`"
   ]
  },
  {
   "cell_type": "markdown",
   "metadata": {},
   "source": [
    "Ahora que tenemos una función que calcula un paso del método, implementemos la función `euler_method()` que use la función `euler_step()` para generar una lista de valores hasta una nueva variable `x_goal`"
   ]
  },
  {
   "cell_type": "code",
   "execution_count": 12,
   "metadata": {},
   "outputs": [],
   "source": [
    "def euler_method(x_0,y_0,x_goal,f,h):\n",
    "    \"\"\"\n",
    "    Regresa una lista para aproximaciones de y con el método de euler hasta un cierto valor x_goal\n",
    "    Entradas:\n",
    "    x_n: int,float\n",
    "        El valor inicial de x\n",
    "    y_n: int, float\n",
    "        El valor inicial de y\n",
    "    x_goal: int,float\n",
    "        El valor hasta donde queremos calcular las aproximaciones del método de euler\n",
    "    f: función\n",
    "        Una función que represente f(x,y) en el problema de valor inicial.\n",
    "    h: int, float\n",
    "        El tamaño del salto de un paso al siguiente\n",
    "        \n",
    "    Salida:\n",
    "    x_n_list: list\n",
    "        Una lista con los valores de 'x' desde x_0 hasta el valor x_{n+1} más cercano a x_goal que sea también menor\n",
    "    y_n_list: list\n",
    "        Una lista con las aproximaciones 'y' evaluadas con los valores de x desde x_0 hasta el valor x_n+1 más cercano a x_goal que sea también menor\n",
    "    \"\"\"\n",
    "    \n",
    "    # Definimos x_n y y_n como los valores iniciales\n",
    "    x_n = x_0\n",
    "    y_n = y_0\n",
    "    \n",
    "    # Crea las listas x_n_list y y_n_list por ahora solo contienen los valores iniciales\n",
    "    x_n_list = [x_0]\n",
    "    y_n_list = [y_0]\n",
    "    \n",
    "    # Crea aquí un ciclo donde lleves a cabo el procedimiento tantas veces sea necesario,\n",
    "    # no olvides guardar cada valor que calcules en las listas 'x_n_list' y 'y_n_list'\n",
    "    # Aprox 4 líneas\n",
    "    for i in range(x_n, x_goal, h):\n",
    "        x,y = euler_step(x_n_list[-1], y_n_list[-1], f, h )\n",
    "        x_n_list.append(x)\n",
    "        y_n_list.append(y)\n",
    "        \n",
    "    return x_n_list,y_n_list"
   ]
  },
  {
   "cell_type": "code",
   "execution_count": 13,
   "metadata": {},
   "outputs": [
    {
     "output_type": "stream",
     "name": "stdout",
     "text": "([0, 1, 2, 3, 4, 5], [-3, -3.6, -3.3200000000000003, -1.9840000000000004, 0.6191999999999995, 4.743039999999999])\n"
    }
   ],
   "source": [
    "x_0 = 0\n",
    "y_0 = -3\n",
    "\n",
    "def f(x,y):\n",
    "    return x + (1/5)*y\n",
    "\n",
    "h = 1\n",
    "x_goal = 5\n",
    "\n",
    "print(euler_method(x_0,y_0,x_goal,f,h))"
   ]
  },
  {
   "cell_type": "markdown",
   "metadata": {},
   "source": [
    "La salida de la celda anterior debería ser:\n",
    "\n",
    "`([0, 1, 2, 3, 4, 5], [-3, -3.6, -3.3200000000000003, -1.9840000000000004, 0.6191999999999993, 4.743039999999999])`"
   ]
  },
  {
   "cell_type": "markdown",
   "metadata": {},
   "source": [
    "## Un Método de Euler Mejorado\n",
    "\n",
    "Una manera sencilla de mejorar el método de Euler será obteniendo más de una pendiente y tomando el promedio de las pendientes para mejorar la predicción como se muestra en la siguiente figura.\n",
    "\n",
    "<img src=\"imgs/euler_3.png\">\n",
    "\n",
    "Vemos que una vez que generamos un nuevo punto $y(x_{n+1})$ podemos obtener la pendiente en este punto, tomar el promedio entre esta pendiente y la encontrada en $y(x_n)$ para encontrar una nueva predicción un poco mejor."
   ]
  },
  {
   "cell_type": "markdown",
   "metadata": {},
   "source": [
    "## Método de Runge-Kutta\n",
    "\n",
    "Utilizando el **Teorema Fundamental del Cálculo** podemos derivar la siguiente expresión,\n",
    "\n",
    "$$y(x_{n+1})-y(x_n) = \\int_{x_n}^{x_{n+1}}y'(x)dx$$\n",
    "\n",
    "Y a su vez, por la **Ley de Simpson** de integración podemos aproximar esto como,\n",
    "\n",
    "$$y(x_{n+1})-y(x_n)\\approx \\frac{h}{6}\\bigg[y'\\big(x_n\\big)+4y'\\bigg(x_n+\\frac{h}{2}\\bigg)+y'\\big(x_{n+1}\\big)\\bigg]$$\n",
    "\n",
    "Y por lo tanto podemos despejar $y_{n+1}$ de la siguiente forma,\n",
    "\n",
    "$$y(x_{n+1})\\approx y(x_n) + \\frac{h}{6}\\bigg[y'\\big(x_n\\big)+2y'\\bigg(x_n+\\frac{h}{2}\\bigg)+2y'\\bigg(x_n+\\frac{h}{2}\\bigg)+y'\\big(x_{n+1}\\big)\\bigg]$$\n",
    "\n",
    "Definiremos los términos dentro del paréntesis $y'\\big(x_n\\big)$, $y'\\big(x_n+\\frac{h}{2}\\big)$, $y'\\big(x_n+\\frac{h}{2}\\big)$ y $y'\\big(x_{n+1}\\big)$ como $k_1,k_2,k_3,k_4$ respectivamente de la siguiente forma,\n",
    "\n",
    "### $k_1 = f(x_n,y_n)$\n",
    "\n",
    "Esto es la pendiente en $(x_n,y_n)$ misma pendiente que utilizaríamos en el Método de Euler original.\n",
    "\n",
    "### $k_2 = f(x_n+\\frac{1}{2}h,y_n+\\frac{1}{2}hk_1)$\n",
    "\n",
    "Esto es la pendiente en el punto medio de $x_n$ y $x_{n+1}$ de acuerdo a la pendiente $k_1$\n",
    " \n",
    "### $k_3 = f(x_n+\\frac{1}{2}h,y_n+\\frac{1}{2}hk_2)$\n",
    "\n",
    "Esto es una correción de la pendiente del punto medio de $x_n$ y $x_{n+1}$ como se hace en el método de Euler corregido.\n",
    "\n",
    "### $k_4 = f(x_{n+1},y_n+hk_3)$\n",
    "\n",
    "Esto es la pendiente del punto $(x_{n+1},y_{n+1})$ basado en la pendiente corregida $k_3$.\n",
    "\n",
    "Lo que finalmente nos lleva a la forma,\n",
    "\n",
    "$$y_{n+1}=y_n+\\frac{h}{6}(k_1+2k_2+2k_3+k_4)$$\n",
    "\n",
    "Nota que se usan las cuatro pendientes calculadas de manera ponderada. Es decir que no es exactamente un promedio, sino que le damos un poco más de peso a ciertas pendientes. Específicamente a las de los puntos medios.\n",
    "\n",
    "Definamos entonces de manera formal el algoritmo."
   ]
  },
  {
   "cell_type": "markdown",
   "metadata": {},
   "source": [
    "### Definición: Método de Runge-Kutta\n",
    "\n",
    "Para el problema de valor inicial,\n",
    "\n",
    "$$\\frac{dy}{dx} = f(x,y)\\qquad y(x_0)=y_0$$\n",
    "\n",
    "El método de Runge-Kutta con salto de tamaño $h$ consiste en aplicar la fórmula iterativa,\n",
    "\n",
    "$$y_{n+1}=y_n+\\frac{h}{6}(k_1+2k_2+2k_3+k_4)$$\n",
    "\n",
    "Dónde,\n",
    "\n",
    "* $k_1 = f(x_n,y_n)$\n",
    "* $k_2 = f(x_n+\\frac{1}{2}h,y_n+\\frac{1}{2}hk_1)$\n",
    "* $k_3 = f(x_n+\\frac{1}{2}h,y_n+\\frac{1}{2}hk_2)$\n",
    "* $k_4 = f(x_{n+1},y_n+hk_3)$\n",
    "\n",
    "para calcular las aproximaciones $y_1,y_2,y_3,\\dots$ de los valores reales $y(x_1),y(x_2),y(x_3),\\dots$ que emanan de la solución exacta $y(x)$"
   ]
  },
  {
   "cell_type": "markdown",
   "metadata": {},
   "source": [
    "## Ejercicio: Implementa el Método de Runge-Kutta\n",
    "\n",
    "Ahora implementaremos el método de Runge-Kutta. Al igual que Euler convendrá hacerlo como una función que podamos llamar para implementar un paso combinada de una función que implemente un cierto número de iteraciones."
   ]
  },
  {
   "cell_type": "markdown",
   "metadata": {},
   "source": [
    "Empecemos por definir la función `runge_kutta_step()` que llevará a cabo una iteración del método."
   ]
  },
  {
   "cell_type": "code",
   "execution_count": 14,
   "metadata": {},
   "outputs": [],
   "source": [
    "def runge_kutta_step(x_n,y_n,f,h):\n",
    "    \"\"\"\n",
    "    Calcula una iteración del método de Runge-Kutta de cuarto orden\n",
    "    Entradas:\n",
    "    x_n: int,float\n",
    "        El valor inicial de x en este paso\n",
    "    y_n: int, float\n",
    "        El valor inicial de y en este paso\n",
    "    f: función\n",
    "        Una función que represente f(x,y) en el problema de valor inicial.\n",
    "    h: int, float\n",
    "        El tamaño del salto de un paso al siguiente\n",
    "        \n",
    "    Salida:\n",
    "    x_n_plus_1: float\n",
    "        El valor de x actualizado de acuerdo al método de euler\n",
    "    y_n_plus_1: float\n",
    "        El valor de y actualizado de acuerdo al método de euler\n",
    "    \"\"\"\n",
    "    x_n_plus_1 = x_n + h\n",
    "\n",
    "    # Calcula cada una de las pendientes k de acuerdo al método de Runge-Kutta\n",
    "    k_1 = f(x_n, y_n) #\n",
    "    k_2 = f(x_n + h/2, y_n + (h/2 * k_1)) #\n",
    "    k_3 = f(x_n + h/2, y_n + (h/2 * k_2)) #\n",
    "    k_4 = f(x_n_plus_1 , y_n + h*k_3) #\n",
    "    \n",
    "    # Y ahora calcula y_n_plus_1 y x_n_plus_1\n",
    "    # Aprox 2 líneas\n",
    "    y_n_plus_1 = y_n + (h/6)*(k_1 + 2*k_2 + 2*k_3 + k_4)\n",
    "    \n",
    "    return x_n_plus_1, y_n_plus_1"
   ]
  },
  {
   "cell_type": "code",
   "execution_count": 15,
   "metadata": {},
   "outputs": [],
   "source": [
    "def f(x,y):\n",
    "    return x + y\n",
    "\n",
    "x_0 = 0\n",
    "y_0 = 1\n",
    "h = 0.5"
   ]
  },
  {
   "cell_type": "code",
   "execution_count": 16,
   "metadata": {},
   "outputs": [
    {
     "output_type": "stream",
     "name": "stdout",
     "text": "x_1 = 0.5\ny_1 = 1.796875\n"
    }
   ],
   "source": [
    "x_1_test, y_1_test = runge_kutta_step(x_0,y_0,f,h)\n",
    "print(f\"x_1 = {x_1_test}\\ny_1 = {y_1_test}\")"
   ]
  },
  {
   "cell_type": "markdown",
   "metadata": {},
   "source": [
    "El resultado anterior debería ser:\n",
    "```\n",
    "x_1 = 0.5\n",
    "y_1 = 1.796875\n",
    "```\n",
    "\n",
    "Para terminar, implementemos la función `runge_kutta()`"
   ]
  },
  {
   "cell_type": "code",
   "execution_count": 17,
   "metadata": {},
   "outputs": [],
   "source": [
    "def runge_kutta(x_0,y_0,x_goal,f,h):\n",
    "    \"\"\"\n",
    "    Regresa una lista para aproximaciones de y con el método de Runge-Kutta hasta un cierto valor x_goal\n",
    "    Entradas:\n",
    "    x_n: int,float\n",
    "        El valor inicial de x\n",
    "    y_n: int, float\n",
    "        El valor inicial de y\n",
    "    x_goal: int,float\n",
    "        El valor hasta donde queremos calcular las aproximaciones del método de euler\n",
    "    f: función\n",
    "        Una función que represente f(x,y) en el problema de valor inicial.\n",
    "    h: int, float\n",
    "        El tamaño del salto de un paso al siguiente\n",
    "        \n",
    "    Salida:\n",
    "    x_n_list: list\n",
    "        Una lista con los valores de 'x' desde x_0 hasta el valor x_{n+1} más cercano a x_goal que sea también menor\n",
    "    y_n_list: list\n",
    "        Una lista con las aproximaciones 'y' evaluadas con los valores de x desde x_0 hasta el valor x_n+1 más cercano a x_goal que sea también menor\n",
    "    \"\"\"\n",
    "    \n",
    "    # Definimos x_n y y_n como los valores iniciales\n",
    "    x_n = x_0\n",
    "    y_n = y_0\n",
    "    \n",
    "    # Crea las listas x_n_list y y_n_list por ahora solo contienen los valores iniciales\n",
    "    x_n_list = [x_0]\n",
    "    y_n_list = [y_0]\n",
    "    \n",
    "    # Crea aquí un ciclo donde lleves a cabo el procedimiento tantas veces sea necesario,\n",
    "    # no olvides guardar cada valor que calcules en las listas 'x_n_list' y 'y_n_list'\n",
    "    # Aprox 4 líneas\n",
    "    \n",
    "    # for i in range(x_n, x_goal, h):\n",
    "    while x_n<=x_goal:\n",
    "\n",
    "        x,y = runge_kutta_step(x_n_list[-1], y_n_list[-1], f, h )\n",
    "        x_n_list.append(x)\n",
    "        y_n_list.append(y)\n",
    "        x_n+=h\n",
    "        \n",
    "    return x_n_list,y_n_list"
   ]
  },
  {
   "cell_type": "code",
   "execution_count": 19,
   "metadata": {
    "scrolled": false
   },
   "outputs": [],
   "source": [
    "def f(x,y):\n",
    "    return x + y\n",
    "\n",
    "x_0 = 0\n",
    "y_0 = 1\n",
    "h = 0.1\n",
    "x_goal = 1\n",
    "\n",
    "\n",
    "x_list, y_list = runge_kutta(x_0,y_0,x_goal,f,h)"
   ]
  },
  {
   "cell_type": "markdown",
   "metadata": {},
   "source": [
    "Usemos una librería llamada `prettytable` para imprimir nuestro resultado. Si no la tienes instalada entonces la siguiente linea arrojaría un error."
   ]
  },
  {
   "cell_type": "code",
   "execution_count": 120,
   "metadata": {},
   "outputs": [],
   "source": [
    "#!pip install PrettyTable"
   ]
  },
  {
   "cell_type": "code",
   "execution_count": 21,
   "metadata": {},
   "outputs": [],
   "source": [
    "from prettytable import PrettyTable"
   ]
  },
  {
   "cell_type": "markdown",
   "metadata": {},
   "source": [
    "En caso de que no tengas la librería la puedes instalar corriendo el siguiente comando en una celda,\n",
    "\n",
    "`!pip install PrettyTable`\n",
    "\n",
    "O puedes simplemente correr el comando `pip install PrettyTable` en una ventana de la terminal (mac y linux) o el prompt de anaconda (windows)."
   ]
  },
  {
   "cell_type": "code",
   "execution_count": 22,
   "metadata": {},
   "outputs": [
    {
     "output_type": "stream",
     "name": "stdout",
     "text": "+---------+----------+\n| Field 1 | Field 2  |\n+---------+----------+\n|   0.00  | 1.000000 |\n|   0.10  | 1.110342 |\n|   0.20  | 1.242805 |\n|   0.30  | 1.399717 |\n|   0.40  | 1.583648 |\n|   0.50  | 1.797441 |\n|   0.60  | 2.044236 |\n|   0.70  | 2.327503 |\n|   0.80  | 2.651079 |\n|   0.90  | 3.019203 |\n|   1.00  | 3.436559 |\n|   1.10  | 3.908327 |\n+---------+----------+\n"
    }
   ],
   "source": [
    "mytable = PrettyTable()\n",
    "\n",
    "for x,y in zip(x_list,y_list):\n",
    "    mytable.add_row([\"{:0.2f}\".format(x),\"{:0.6f}\".format(y)])\n",
    "print(mytable)"
   ]
  },
  {
   "cell_type": "markdown",
   "metadata": {},
   "source": [
    "La salida de la celda anterior debería ser:\n",
    "```\n",
    "+---------+----------+\n",
    "| Field 1 | Field 2  |\n",
    "+---------+----------+\n",
    "|   0.00  | 1.000000 |\n",
    "|   0.10  | 1.110342 |\n",
    "|   0.20  | 1.242805 |\n",
    "|   0.30  | 1.399717 |\n",
    "|   0.40  | 1.583648 |\n",
    "|   0.50  | 1.797441 |\n",
    "|   0.60  | 2.044236 |\n",
    "|   0.70  | 2.327503 |\n",
    "|   0.80  | 2.651079 |\n",
    "|   0.90  | 3.019203 |\n",
    "|   1.00  | 3.436559 |\n",
    "|   1.10  | 3.908327 |\n",
    "+---------+----------+\n",
    "```"
   ]
  },
  {
   "cell_type": "code",
   "execution_count": null,
   "metadata": {},
   "outputs": [],
   "source": []
  }
 ],
 "metadata": {
  "kernelspec": {
   "display_name": "Python 3.7.4 64-bit",
   "language": "python",
   "name": "python37464bit4e0a9dfbe43f43c09651165f3df46a6b"
  },
  "language_info": {
   "codemirror_mode": {
    "name": "ipython",
    "version": 3
   },
   "file_extension": ".py",
   "mimetype": "text/x-python",
   "name": "python",
   "nbconvert_exporter": "python",
   "pygments_lexer": "ipython3",
   "version": "3.7.4-final"
  }
 },
 "nbformat": 4,
 "nbformat_minor": 2
}