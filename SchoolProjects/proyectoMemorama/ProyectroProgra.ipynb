{
  "nbformat": 4,
  "nbformat_minor": 0,
  "metadata": {
    "colab": {
      "name": "ProyectroProgra.ipynb",
      "provenance": [],
      "collapsed_sections": []
    },
    "kernelspec": {
      "name": "python3",
      "display_name": "Python 3"
    }
  },
  "cells": [
    {
      "cell_type": "markdown",
      "metadata": {
        "id": "cwkqPakLdccG",
        "colab_type": "text"
      },
      "source": [
        "# **Proyecto de pensamiento Computacional**\n",
        "\n",
        "*Integrantes: Lía, Martha, Vale Pi y Jorge*\n",
        "\n",
        "Pensamiento computacional para la ingeniería\n",
        "\n",
        "Patricia Domínguez Alavez\n",
        "\n",
        "18/10/2019\n",
        "\n",
        " \n",
        "\n",
        "\n",
        "---\n",
        "Para añadir código, en la esquina superior izquierda dice *+Code*.\n",
        "\n",
        "Si lo quieren correr: Runtime → Run all"
      ]
    },
    {
      "cell_type": "code",
      "metadata": {
        "id": "EssPNmgyOsiE",
        "colab_type": "code",
        "colab": {
          "base_uri": "https://localhost:8080/",
          "height": 317
        },
        "outputId": "6023334a-a0b4-4a78-e260-0bfe370ea7c7"
      },
      "source": [
        "#Hola, aquí vamos a hacer el código del reto, ¿les parece si nos dividmos las funciones?\n",
        "  # Necesistamos hacer un memorama con números del 1-18. \n",
        "  # Los valores deben aparecer dos veces\n",
        "  \n",
        "  #Funciones Vale π: ---------------------------------------------------------------------------------------------------------\n",
        "    # Pedir casillas al jugador (linea, columna)                                                  ✔✔✔ - Verificado\n",
        "    # Verificar que existan, no estén mostradas y no se repita                                    ✔✔✔ - Verificado\n",
        "  #Funciones Martha: ---------------------------------------------------------------------------------------------------------\n",
        "    # Mostrar el tablero                                                                          ✔✔✔ - Verificado\n",
        "    # En caso de que las \"cartas\" sean iguales, va a mostrar (y mantener) los valores de la carta ✔✔✔ - Verificado\n",
        "  #Funciones Lía: ------------------------------------------------------------------------------------------------------------\n",
        "    # Pregunta al usuario si desea seguir jugando, (si) se cambia de jugador                      ✔✔✔ - Verificado\n",
        "    # Mantener registro de las anotaciones de cada quién, ganador o empate                        ✔✔✔ - Verificado\n",
        "  #Funciones Su servilleta: --------------------------------------------------------------------------------------------------\n",
        "    # Determinar las posiciones de los números                                                    ✔✔✔ - Verificado\n",
        "    # Cerrar el programa si ya no quedan tarjetas                                                 ✔✔✔ - Verificado\n",
        "    # Mostrar el resultado del juego.                                                             ✔✔✔ - Verificado\n",
        "\n",
        "games=0\n",
        "def main ():\n",
        "   global games\n",
        "   games = 0\n",
        "   registro=[0,0]\n",
        "   jugador=1\n",
        "   matrix= []\n",
        "   determinar_posiciones(matrix)\n",
        "   mostrar_tab(matrix)\n",
        "\n",
        "   while (contar_vacios(matrix) and continuar_juego()):\n",
        "     print(\"Turno del jugador \" + str(jugador))\n",
        "     cartas = escoger_cartas(matrix) #las cartas escogidas se guardan en la lista cartas\n",
        "     mostrar_iguales(matrix, cartas, registro, jugador)\n",
        "     if jugador ==2:\n",
        "        jugador= jugador -1\n",
        "     else:\n",
        "        jugador = jugador +1\n",
        "   print(\"El juego se acabó, <(╯︿╰)>\")\n",
        "   print(determinar_ganador(registro))\n",
        "        \n",
        "main() #CORRE EL MAIN DEL PROGRAMA!!!!!"
      ],
      "execution_count": null,
      "outputs": [
        {
          "output_type": "error",
          "ename": "NameError",
          "evalue": "ignored",
          "traceback": [
            "\u001b[0;31m---------------------------------------------------------------------------\u001b[0m",
            "\u001b[0;31mNameError\u001b[0m                                 Traceback (most recent call last)",
            "\u001b[0;32m<ipython-input-1-a55210d67cdb>\u001b[0m in \u001b[0;36m<module>\u001b[0;34m()\u001b[0m\n\u001b[1;32m     21\u001b[0m    \u001b[0mprint\u001b[0m\u001b[0;34m(\u001b[0m\u001b[0mdeterminar_ganador\u001b[0m\u001b[0;34m(\u001b[0m\u001b[0mregistro\u001b[0m\u001b[0;34m)\u001b[0m\u001b[0;34m)\u001b[0m\u001b[0;34m\u001b[0m\u001b[0;34m\u001b[0m\u001b[0m\n\u001b[1;32m     22\u001b[0m \u001b[0;34m\u001b[0m\u001b[0m\n\u001b[0;32m---> 23\u001b[0;31m \u001b[0mmain\u001b[0m\u001b[0;34m(\u001b[0m\u001b[0;34m)\u001b[0m \u001b[0;31m#CORRE EL MAIN DEL PROGRAMA!!!!!\u001b[0m\u001b[0;34m\u001b[0m\u001b[0;34m\u001b[0m\u001b[0m\n\u001b[0m",
            "\u001b[0;32m<ipython-input-1-a55210d67cdb>\u001b[0m in \u001b[0;36mmain\u001b[0;34m()\u001b[0m\n\u001b[1;32m      7\u001b[0m    \u001b[0mjugador\u001b[0m\u001b[0;34m=\u001b[0m\u001b[0;36m1\u001b[0m\u001b[0;34m\u001b[0m\u001b[0;34m\u001b[0m\u001b[0m\n\u001b[1;32m      8\u001b[0m    \u001b[0mmatrix\u001b[0m\u001b[0;34m=\u001b[0m \u001b[0;34m[\u001b[0m\u001b[0;34m]\u001b[0m\u001b[0;34m\u001b[0m\u001b[0;34m\u001b[0m\u001b[0m\n\u001b[0;32m----> 9\u001b[0;31m    \u001b[0mdeterminar_posiciones\u001b[0m\u001b[0;34m(\u001b[0m\u001b[0mmatrix\u001b[0m\u001b[0;34m)\u001b[0m\u001b[0;34m\u001b[0m\u001b[0;34m\u001b[0m\u001b[0m\n\u001b[0m\u001b[1;32m     10\u001b[0m    \u001b[0mmostrar_tab\u001b[0m\u001b[0;34m(\u001b[0m\u001b[0mmatrix\u001b[0m\u001b[0;34m)\u001b[0m\u001b[0;34m\u001b[0m\u001b[0;34m\u001b[0m\u001b[0m\n\u001b[1;32m     11\u001b[0m \u001b[0;34m\u001b[0m\u001b[0m\n",
            "\u001b[0;31mNameError\u001b[0m: name 'determinar_posiciones' is not defined"
          ]
        }
      ]
    },
    {
      "cell_type": "markdown",
      "metadata": {
        "id": "2FePROT479Ik",
        "colab_type": "text"
      },
      "source": [
        "*Funciones Vale π*"
      ]
    },
    {
      "cell_type": "code",
      "metadata": {
        "id": "2iCW4JcgGvfP",
        "colab_type": "code",
        "colab": {}
      },
      "source": [
        "# Función que pide casillas al jugador (columna, renglón) @VALE π\n",
        "def escoger_cartas(matrix):\n",
        "    cartas = [] #Lista que guarda las cartas escogidas\n",
        "\n",
        "    # Función que verifica que existan, no estén mostradas y no se repitan (regresa True/False)\n",
        "    def exists():\n",
        "        real = False\n",
        "        if (row >= 0 and row < 6) and (column >= 0 and column < 6): #Primero checa si existe\n",
        "            if not matrix[row][column][1]: #Luego si está mostrada\n",
        "                if (len(cartas) != 0) and (cartas[0][0] == row) and (cartas[0][1] == column): #Finalmente, si se repite\n",
        "                    print(\"Ya escogiste esa casilla, intenta de nuevo\")\n",
        "                else: #No se repite o es la primer carta\n",
        "                    real = True\n",
        "            else:\n",
        "                print(\"Ya está mostrada esa casilla, intenta de nuevo\")\n",
        "        else:\n",
        "            print(\"No existe esa casilla, intenta de nuevo\")\n",
        "        return real\n",
        "\n",
        "    for i in range (1,3):\n",
        "        while True: #do while pero pero adaptado a Python, pide carta hasta que sea una válida\n",
        "            column = int(input(\"Ingresa la columna de la carta \" + str(i) + \": \")) -1\n",
        "            row = int(input(\"Ingresa el renglón de la carta \" + str(i) + \": \")) -1\n",
        "            valid = exists()\n",
        "            if valid:\n",
        "                break\n",
        "        cartas.append([row, column])\n",
        "    return cartas\n",
        "\n",
        "    # print(matrix[cartas[0][0]][cartas[0][1]][0])   imprime la primera carta elegida\n",
        "    # print(matrix[cartas[1][0]][cartas[1][1]][0])   imprime la segunda carta elegida"
      ],
      "execution_count": null,
      "outputs": []
    },
    {
      "cell_type": "markdown",
      "metadata": {
        "id": "D9zFt2u-8E5y",
        "colab_type": "text"
      },
      "source": [
        "*Funciones Lía*"
      ]
    },
    {
      "cell_type": "code",
      "metadata": {
        "id": "gZ-1jU34DiFM",
        "colab_type": "code",
        "colab": {}
      },
      "source": [
        "#Pregunta al usuario si desea seguir jugando @Lía\n",
        "\n",
        "def continuar_juego ():\n",
        "    global games\n",
        "    if games==0:\n",
        "        games+=1\n",
        "        continuar= input(\"¿Deseas empezar a jugar? (Y/N)\")\n",
        "    else:\n",
        "      continuar= input(\"¿Deseas seguir jugando? (Y/N)\")\n",
        "      games+=1\n",
        "    if continuar.lower()==\"y\":\n",
        "      return True \n",
        "    else:\n",
        "      return False"
      ],
      "execution_count": null,
      "outputs": []
    },
    {
      "cell_type": "code",
      "metadata": {
        "id": "quIIEdiChNG_",
        "colab_type": "code",
        "colab": {}
      },
      "source": [
        "# Mantener registro de las anotaciones de cada quién, ganador o empate @Lía\n",
        "def aumentar_register (registro, jugador):\n",
        "  #Le aumenta un punto a cada jugador\n",
        "  registro[jugador-1]+= 1"
      ],
      "execution_count": null,
      "outputs": []
    },
    {
      "cell_type": "markdown",
      "metadata": {
        "id": "773tYzMu7tIF",
        "colab_type": "text"
      },
      "source": [
        "*Funciones Martha*"
      ]
    },
    {
      "cell_type": "code",
      "metadata": {
        "id": "ySzS2m9S4a63",
        "colab_type": "code",
        "colab": {}
      },
      "source": [
        "#Función que muestra/imprime el tablero del memorama @MARTHA\n",
        "\n",
        "def mostrar_tab (matrix):\n",
        "  print(\"    [1] [2] [3] [4] [5] [6]\")\n",
        "  for x in range (0, 6): #Definen el largo y ancho del tablero\n",
        "    print(\"[\" + str(x+1) + \"]  \", end='')\n",
        "    for y in range (0, 6):\n",
        "      if matrix[x][y][1] == False: #El número no es correcto, no se muestra\n",
        "        print(\"–\", end=\"   \")\n",
        "      else: #El número es correcto, se muestra\n",
        "        print(matrix[x][y][0], end=\"  \")\n",
        "    print()\n",
        "\n",
        "#Función que mantiene los valores visibles de ser iguales\n",
        "\n",
        "def mostrar_iguales(matrix, cartas, registro, jugador):\n",
        "  c1 = matrix[cartas[0][0]][cartas[0][1]][0]\n",
        "  c2 = matrix[cartas[1][0]][cartas[1][1]][0]\n",
        "  matrix[cartas[0][0]][cartas[0][1]][1] = True\n",
        "  matrix[cartas[1][0]][cartas[1][1]][1] = True\n",
        "  mostrar_tab(matrix)\n",
        "  if c1 == c2:\n",
        "    aumentar_register(registro,jugador)\n",
        "  else: \n",
        "    matrix[cartas[0][0]][cartas[0][1]][1] = False\n",
        "    matrix[cartas[1][0]][cartas[1][1]][1] = False\n",
        "    print(\"Vuélvelo a intentar.\")"
      ],
      "execution_count": null,
      "outputs": []
    },
    {
      "cell_type": "markdown",
      "metadata": {
        "id": "DpNYRxPS7moy",
        "colab_type": "text"
      },
      "source": [
        "*Funciones Jorge*"
      ]
    },
    {
      "cell_type": "code",
      "metadata": {
        "id": "aps26Wv-fLnF",
        "colab_type": "code",
        "colab": {}
      },
      "source": [
        "#Función que define la posición de los números @JORGE\n",
        "import random\n",
        "\n",
        "def definir_numero():\n",
        "    num=random.randrange(0,len(record))\n",
        "    return record.pop(num)\n",
        "    \n",
        "record = [\" 1\",\" 1\",\" 2\",\" 2\",\" 3\",\" 3\",\" 4\",\" 4\",\" 5\",\" 5\",\" 6\",\" 6\",\" 7\",\" 7\",\" 8\",\" 8\",\" 9\",\" 9\",\"10\",\"10\",\"11\",\"11\",\"12\",\"12\",\"13\",\"13\",\"14\",\"14\",\"15\",\"15\",\"16\",\"16\",\"17\",\"17\",\"18\",\"18\"] #Estos son los datos que irán dentro del memorama\n",
        "\n",
        "def determinar_posiciones(matrix):\n",
        "  random.shuffle(record) #Revuelve el memorama\n",
        "  random.shuffle(record)\n",
        "  for x in range (0, 6):\n",
        "      a=[] #Crea matriz de 6 números (tablero de 6x6)\n",
        "      for y in range (0, 6):\n",
        "          b = [definir_numero(),False] #Tiene un número y este se muestra solo si no es FALSE\n",
        "          a.append(b) #b entra en a\n",
        "      matrix.append(a)  #b está en toda la matriz"
      ],
      "execution_count": null,
      "outputs": []
    },
    {
      "cell_type": "code",
      "metadata": {
        "id": "TQ3sEQeiOFzu",
        "colab_type": "code",
        "colab": {}
      },
      "source": [
        "#Función que cierra el programa si ya no quedan más tarjetas por descubrir @JORGE\n",
        "\n",
        "#Te regresa un boolean dependiendo de la operación.\n",
        "def contar_vacios (matrix):\n",
        "  suma=0\n",
        "  for z in range(0,len(matrix)):\n",
        "    for x in range (0,len(matrix[z])):\n",
        "      if(matrix[z][x][1]== True):\n",
        "        suma+=1\n",
        "  if(suma==18*2): #Porque hay dos casillas de cada número\n",
        "    return False\n",
        "  else:\n",
        "    return True"
      ],
      "execution_count": null,
      "outputs": []
    },
    {
      "cell_type": "code",
      "metadata": {
        "id": "ulXI1NiTS7yV",
        "colab_type": "code",
        "colab": {}
      },
      "source": [
        "def determinar_ganador (registro):\n",
        "  p1 = registro[0]\n",
        "  p2 = registro[1]\n",
        "  global games\n",
        "  if games == 1:\n",
        "    return \"El juego nunca empezó :v\"\n",
        "  if p1==p2:\n",
        "    return \"¡Empatados a \" + str(p1) + \"!\"\n",
        "  elif p1>p2:\n",
        "    return \"Jugador 1: \" + str(p1) + \" pares encontrados, ¡Felicidades!\\nJugador 2: \" + str(p2) + \" pares encontrados, por lo menos intentaste\"\n",
        "  else:\n",
        "    return \"Jugador 2: \" + str(p2) + \" pares encontrados, ¡Felicidades!\\nJugador 1: \" + str(p1) + \" pares encontrados, por lo menos intentaste\""
      ],
      "execution_count": null,
      "outputs": []
    },
    {
      "cell_type": "code",
      "metadata": {
        "id": "tz88EfU61fe6",
        "colab_type": "code",
        "colab": {
          "base_uri": "https://localhost:8080/",
          "height": 480
        },
        "outputId": "8575eacf-54ff-42ac-90c9-e83de458ee3e"
      },
      "source": [
        "import random\n",
        "\n",
        "# Función que pide casillas al jugador (columna, renglón) @VALE π\n",
        "def escoger_cartas(matrix):\n",
        "    cartas = [] #Lista que guarda las cartas escogidas\n",
        "\n",
        "    # Función que verifica que existan, no estén mostradas y no se repitan (regresa True/False)\n",
        "    def exists():\n",
        "        real = False\n",
        "        if (row >= 0 and row < 6) and (column >= 0 and column < 6): #Primero checa si existe\n",
        "            if not matrix[row][column][1]: #Luego si está mostrada\n",
        "                if ((len(cartas) != 0) and (cartas[0][1] == column) and (cartas[0][0] == row)): #Finalmente, si se repite\n",
        "                    print(\"Ya escogiste esa casilla, intenta de nuevo\")\n",
        "                else: #No se repite o es la primer carta\n",
        "                    real = True\n",
        "            else:\n",
        "                print(\"Ya está mostrada esa casilla, intenta de nuevo\")\n",
        "        else:\n",
        "            print(\"No existe esa casilla, intenta de nuevo\")\n",
        "        return real\n",
        "\n",
        "    for i in range (1,3):\n",
        "        while True: #do while pero pero adaptado a Python, pide carta hasta que sea una válida\n",
        "            column = int(input(\"Ingresa la columna de la carta \" + str(i) + \": \")) -1\n",
        "            row = int(input(\"Ingresa el renglón de la carta \" + str(i) + \": \")) -1\n",
        "            valid = exists()\n",
        "            if valid:\n",
        "                break\n",
        "        cartas.append([row, column])\n",
        "    return cartas\n",
        "\n",
        "\n",
        "# Pregunta al usuario si desea seguir jugando, si sí se cambia de jugador @Lía\n",
        "def continuar_juego ():\n",
        "    continuar= input(\"¿Deseas seguir jugando? (Y/N) \")\n",
        "    if continuar.lower()==\"y\":\n",
        "        return False\n",
        "    else:\n",
        "        return True\n",
        "\n",
        "\n",
        "# Mantener registro de las anotaciones de cada quién, ganador o empate @Lía\n",
        "def aumentar_register (registro, jugador):\n",
        "    #Le aumenta un punto a cada jugador\n",
        "    registro[jugador-1]+= 1\n",
        "\n",
        "\n",
        "# Función que muestra/imprime el tablero del memorama @MARTHA\n",
        "def mostrar_tab (matrix):\n",
        "    print(\"    [1] [2] [3] [4] [5] [6]\")\n",
        "    for x in range (0, 6): #Definen el largo y ancho del tablero\n",
        "        print(\"[\" + str(x+1) + \"]  \", end='')\n",
        "        for y in range (0, 6):\n",
        "            if matrix[x][y][1] == False: #El número no es correcto, no se muestra\n",
        "                print(\"–\", end=\"   \")\n",
        "            else: #El número es correcto, se muestra\n",
        "                print(matrix[x][y][0], end=\"  \")\n",
        "        print()\n",
        "\n",
        "\n",
        "# Función que mantiene los valores visibles de ser iguales\n",
        "def mostrar_iguales(matrix, cartas, registro, jugador):\n",
        "    c1 = matrix[cartas[0][0]][cartas[0][1]][0]\n",
        "    c2 = matrix[cartas[1][0]][cartas[1][1]][0]\n",
        "    matrix[cartas[0][0]][cartas[0][1]][1] = True\n",
        "    matrix[cartas[1][0]][cartas[1][1]][1] = True\n",
        "    mostrar_tab(matrix)\n",
        "    if c1 == c2:\n",
        "        aumentar_register(registro,jugador)\n",
        "    else: \n",
        "        matrix[cartas[0][0]][cartas[0][1]][1] = False\n",
        "        matrix[cartas[1][0]][cartas[1][1]][1] = False\n",
        "        print(\"Vuélvelo a intentar.\")\n",
        "\n",
        "\n",
        "# Función que define la posición de los números @JORGE\n",
        "def definir_numero():\n",
        "    num=random.randrange(0,len(record))\n",
        "    return record.pop(num)\n",
        "    \n",
        "record = [\" 1\",\" 1\",\" 2\",\" 2\",\" 3\",\" 3\",\" 4\",\" 4\",\" 5\",\" 5\",\" 6\",\" 6\",\" 7\",\" 7\",\" 8\",\" 8\",\" 9\",\" 9\",\"10\",\"10\",\"11\",\"11\",\"12\",\"12\",\"13\",\"13\",\"14\",\"14\",\"15\",\"15\",\"16\",\"16\",\"17\",\"17\",\"18\",\"18\"] #Estos son los datos que irán dentro del memorama\n",
        "\n",
        "# Función que crea el tablero\n",
        "def determinar_posiciones(matrix):\n",
        "    random.shuffle(record) #Revuelve el memorama\n",
        "    random.shuffle(record)\n",
        "    for x in range (0, 6):\n",
        "        a=[] #Crea matriz de 6 números (tablero de 6x6)\n",
        "        for y in range (0, 6):\n",
        "            b = [definir_numero(),False] #Tiene un número y este se muestra solo si no es FALSE\n",
        "            a.append(b) #b entra en a\n",
        "        matrix.append(a)  #b está en toda la matriz\n",
        "\n",
        "\n",
        "#Función que cierra el programa si ya no quedan más tarjetas por descubrir @JORGE\n",
        "def contar_vacios (matrix):\n",
        "    suma=0\n",
        "    for z in range(0,len(matrix)):\n",
        "        for x in range (0,len(matrix[z])):\n",
        "            if(matrix[z][x][1]== True):\n",
        "                suma+=1\n",
        "    if(suma==36):\n",
        "        return False #está completamente mostrado el tablero\n",
        "    else:\n",
        "        return True #todavía hay pares que encontrar\n",
        "\n",
        "\n",
        "# Imprimir el puntaje final y quien haya ganado\n",
        "def determinar_ganador (registro):\n",
        "    p1 = registro[0]\n",
        "    p2 = registro[1]\n",
        "    if p1==p2:\n",
        "        return \"¡Empatados a \" + str(p1) + \"!\"\n",
        "    elif p1>p2:\n",
        "        return \"Jugador 1: \" + str(p1) + \" pares encontrados, ¡Felicidades!\\nJugador 2: \" + str(p2) + \" pares encontrados, sigue intentando\"\n",
        "    else:\n",
        "        return \"Jugador 2: \" + str(p2) + \" pares encontrados, ¡Felicidades!\\nJugador 1: \" + str(p1) + \" pares encontrados, sigue intentando\"\n",
        "\n",
        "\n",
        "def main ():\n",
        "    registro=[0,0]\n",
        "    jugador=1\n",
        "    matrix= []\n",
        "    determinar_posiciones(matrix)\n",
        "    mostrar_tab(matrix)\n",
        "\n",
        "    while True:\n",
        "        print(\"Turno del jugador \" + str(jugador))\n",
        "        cartas = escoger_cartas(matrix) #las cartas escogidas se guardan en la lista cartas\n",
        "        mostrar_iguales(matrix, cartas, registro, jugador)\n",
        "        if jugador ==2:\n",
        "            jugador=jugador -1\n",
        "        else:\n",
        "            jugador = jugador +1\n",
        "        cond1 = contar_vacios(matrix)\n",
        "        cond2 = continuar_juego()\n",
        "\n",
        "        if cond1 and cond2:\n",
        "            break\n",
        "        \n",
        "    print(\"El juego se acabó, ╯︿╰\")\n",
        "    print(determinar_ganador(registro))\n",
        "\n",
        "\n",
        "main() #CORRE EL MAIN DEL PROGRAMA!!!!!"
      ],
      "execution_count": null,
      "outputs": [
        {
          "output_type": "stream",
          "text": [
            "    [1] [2] [3] [4] [5] [6]\n",
            "[1]  –   –   –   –   –   –   \n",
            "[2]  –   –   –   –   –   –   \n",
            "[3]  –   –   –   –   –   –   \n",
            "[4]  –   –   –   –   –   –   \n",
            "[5]  –   –   –   –   –   –   \n",
            "[6]  –   –   –   –   –   –   \n",
            "Turno del jugador 1\n",
            "Ingresa la columna de la carta 1: 4\n",
            "Ingresa el renglón de la carta 1: 5\n",
            "Ingresa la columna de la carta 2: 2\n",
            "Ingresa el renglón de la carta 2: 7\n",
            "No existe esa casilla, intenta de nuevo\n",
            "Ingresa la columna de la carta 2: 4\n",
            "Ingresa el renglón de la carta 2: 3\n",
            "    [1] [2] [3] [4] [5] [6]\n",
            "[1]  –   –   –   –   –   –   \n",
            "[2]  –   –   –   –   –   –   \n",
            "[3]  –   –   –    2  –   –   \n",
            "[4]  –   –   –   –   –   –   \n",
            "[5]  –   –   –   16  –   –   \n",
            "[6]  –   –   –   –   –   –   \n",
            "Vuélvelo a intentar.\n",
            "¿Deseas seguir jugando? (Y/N) y\n",
            "Turno del jugador 2\n"
          ],
          "name": "stdout"
        }
      ]
    }
  ]
}